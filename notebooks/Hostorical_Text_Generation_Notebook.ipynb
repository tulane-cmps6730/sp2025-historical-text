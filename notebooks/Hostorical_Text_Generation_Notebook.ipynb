{
 "cells": [
  {
   "cell_type": "code",
   "execution_count": null,
   "metadata": {},
   "outputs": [],
   "source": [
    "import pandas as pd\n",
    "from sklearn.model_selection import train_test_split\n",
    "\n",
    "# Load and clean\n",
    "df = pd.read_csv(r'C:\\Users\\15614\\Documents\\History_documents\\combined_history_dataset.csv')\n",
    "df = df.dropna(subset=[\"year\", \"region\", \"source\", \"text\"])\n",
    "\n",
    "# Split\n",
    "train_df, eval_df = train_test_split(df, test_size=0.1, random_state=42)\n",
    "\n",
    "# Write train set\n",
    "with open(\"train.txt\", \"w\", encoding=\"utf-8\") as f:\n",
    "    for _, row in train_df.iterrows():\n",
    "        header = f\"[YEAR: {row['year']}] [REGION: {row['region']}] [SOURCE: {row['source']}]\"\n",
    "        text = row['text'].strip().replace(\"\\n\", \" \")\n",
    "        f.write(f\"{header}\\n{text}\\n\\n\")\n",
    "\n",
    "# Write eval set\n",
    "with open(\"eval.txt\", \"w\", encoding=\"utf-8\") as f:\n",
    "    for _, row in eval_df.iterrows():\n",
    "        header = f\"[YEAR: {row['year']}] [REGION: {row['region']}] [SOURCE: {row['source']}]\"\n",
    "        text = row['text'].strip().replace(\"\\n\", \" \")\n",
    "        f.write(f\"{header}\\n{text}\\n\\n\")\n"
   ]
  },
  {
   "cell_type": "code",
   "execution_count": 17,
   "metadata": {},
   "outputs": [
    {
     "name": "stderr",
     "output_type": "stream",
     "text": [
      "Token indices sequence length is longer than the specified maximum sequence length for this model (8320178 > 1024). Running this sequence through the model will result in indexing errors\n",
      "`loss_type=None` was set in the config but it is unrecognised.Using the default loss: `ForCausalLMLoss`.\n"
     ]
    },
    {
     "data": {
      "text/html": [
       "\n",
       "    <div>\n",
       "      \n",
       "      <progress value='1000' max='1000' style='width:300px; height:20px; vertical-align: middle;'></progress>\n",
       "      [1000/1000 3:02:10, Epoch 0/1]\n",
       "    </div>\n",
       "    <table border=\"1\" class=\"dataframe\">\n",
       "  <thead>\n",
       " <tr style=\"text-align: left;\">\n",
       "      <th>Step</th>\n",
       "      <th>Training Loss</th>\n",
       "    </tr>\n",
       "  </thead>\n",
       "  <tbody>\n",
       "    <tr>\n",
       "      <td>100</td>\n",
       "      <td>4.518000</td>\n",
       "    </tr>\n",
       "    <tr>\n",
       "      <td>200</td>\n",
       "      <td>4.284800</td>\n",
       "    </tr>\n",
       "    <tr>\n",
       "      <td>300</td>\n",
       "      <td>4.393100</td>\n",
       "    </tr>\n",
       "    <tr>\n",
       "      <td>400</td>\n",
       "      <td>4.330100</td>\n",
       "    </tr>\n",
       "    <tr>\n",
       "      <td>500</td>\n",
       "      <td>4.263600</td>\n",
       "    </tr>\n",
       "    <tr>\n",
       "      <td>600</td>\n",
       "      <td>4.319200</td>\n",
       "    </tr>\n",
       "    <tr>\n",
       "      <td>700</td>\n",
       "      <td>4.306400</td>\n",
       "    </tr>\n",
       "    <tr>\n",
       "      <td>800</td>\n",
       "      <td>4.387600</td>\n",
       "    </tr>\n",
       "    <tr>\n",
       "      <td>900</td>\n",
       "      <td>4.111300</td>\n",
       "    </tr>\n",
       "    <tr>\n",
       "      <td>1000</td>\n",
       "      <td>4.370300</td>\n",
       "    </tr>\n",
       "  </tbody>\n",
       "</table><p>"
      ],
      "text/plain": [
       "<IPython.core.display.HTML object>"
      ]
     },
     "metadata": {},
     "output_type": "display_data"
    },
    {
     "name": "stderr",
     "output_type": "stream",
     "text": [
      "c:\\Users\\15614\\anaconda3\\Lib\\site-packages\\transformers\\utils\\generic.py:271: FutureWarning: The input object of type 'Tensor' is an array-like implementing one of the corresponding protocols (`__array__`, `__array_interface__` or `__array_struct__`); but not a sequence (or 0-D). In the future, this object will be coerced as if it was first converted using `np.array(obj)`. To retain the old behaviour, you have to either modify the type 'Tensor', or assign to an empty array created with `np.empty(correct_shape, dtype=object)`.\n",
      "  arr = np.array(obj)\n"
     ]
    },
    {
     "data": {
      "text/plain": [
       "('./historical_model_output\\\\tokenizer_config.json',\n",
       " './historical_model_output\\\\special_tokens_map.json',\n",
       " './historical_model_output\\\\vocab.json',\n",
       " './historical_model_output\\\\merges.txt',\n",
       " './historical_model_output\\\\added_tokens.json')"
      ]
     },
     "execution_count": 17,
     "metadata": {},
     "output_type": "execute_result"
    }
   ],
   "source": [
    "from transformers import GPT2Tokenizer, GPT2LMHeadModel, Trainer, TrainingArguments, DataCollatorForLanguageModeling\n",
    "from torch.utils.data import Dataset\n",
    "import torch\n",
    "\n",
    "# Load tokenizer and model\n",
    "tokenizer = GPT2Tokenizer.from_pretrained(\"distilgpt2\")\n",
    "tokenizer.pad_token = tokenizer.eos_token  # <-- this line fixes the padding error\n",
    "\n",
    "model = GPT2LMHeadModel.from_pretrained(\"distilgpt2\")\n",
    "model.resize_token_embeddings(len(tokenizer))\n",
    "\n",
    "# Custom Dataset Class\n",
    "class TextFileDataset(Dataset):\n",
    "    def __init__(self, file_path, tokenizer, block_size=1024):\n",
    "        with open(file_path, encoding=\"utf-8\") as f:\n",
    "            text = f.read()\n",
    "\n",
    "        tokenized = tokenizer(text, return_tensors=\"pt\", truncation=False)[\"input_ids\"][0]\n",
    "\n",
    "        # Break the long token stream into multiple blocks of size `block_size`\n",
    "        self.examples = []\n",
    "        for i in range(0, len(tokenized) - block_size + 1, block_size):\n",
    "            block = tokenized[i:i+block_size]\n",
    "            self.examples.append(block)\n",
    "\n",
    "    def __len__(self):\n",
    "        return len(self.examples)\n",
    "\n",
    "    def __getitem__(self, idx):\n",
    "        return {\"input_ids\": self.examples[idx], \"labels\": self.examples[idx]}\n",
    "\n",
    "# Prepare datasets\n",
    "train_dataset = TextFileDataset(\"train.txt\", tokenizer)\n",
    "eval_dataset = TextFileDataset(\"eval.txt\", tokenizer)\n",
    "\n",
    "# Collator\n",
    "data_collator = DataCollatorForLanguageModeling(tokenizer=tokenizer, mlm=False)\n",
    "\n",
    "# Training args (no evaluation strategy)\n",
    "training_args = TrainingArguments(\n",
    "    output_dir=\"./historical_model_output\",\n",
    "    overwrite_output_dir=True,\n",
    "    num_train_epochs=8,\n",
    "    per_device_train_batch_size=2,\n",
    "    save_steps=500,\n",
    "    logging_steps=100,\n",
    "    save_total_limit=2,\n",
    "    logging_dir=\"./logs\",\n",
    "    max_steps=1000\n",
    ")\n",
    "\n",
    "# Trainer\n",
    "trainer = Trainer(\n",
    "    model=model,\n",
    "    args=training_args,\n",
    "    train_dataset=train_dataset,\n",
    "    eval_dataset=eval_dataset,\n",
    "    data_collator=data_collator\n",
    ")\n",
    "\n",
    "# Train\n",
    "trainer.train()\n",
    "\n",
    "# Save\n",
    "trainer.save_model(\"./historical_model_output\")\n",
    "tokenizer.save_pretrained(\"./historical_model_output\")\n"
   ]
  },
  {
   "cell_type": "code",
   "execution_count": 22,
   "metadata": {},
   "outputs": [
    {
     "data": {
      "image/png": "[encoded data removed]",
      "text/plain": [
       "<Figure size 640x480 with 1 Axes>"
      ]
     },
     "metadata": {},
     "output_type": "display_data"
    }
   ],
   "source": [
    "import matplotlib.pyplot as plt\n",
    "\n",
    "log_history = trainer.state.log_history\n",
    "steps = [entry[\"step\"] for entry in log_history if \"loss\" in entry]\n",
    "train_loss = [entry[\"loss\"] for entry in log_history if \"loss\" in entry]\n",
    "#eval_steps = [entry[\"step\"] for entry in log_history if \"eval_loss\" in entry]\n",
    "#eval_loss = [entry[\"eval_loss\"] for entry in log_history if \"eval_loss\" in entry]\n",
    "\n",
    "plt.plot(steps, train_loss, label=\"Train Loss\", marker='o')\n",
    "#plt.plot(eval_steps, eval_loss, label=\"Eval Loss\", marker='x')\n",
    "plt.title(\"Training Loss vs Steps\")\n",
    "plt.xlabel(\"Step\")\n",
    "plt.ylabel(\"Loss\")\n",
    "plt.legend()\n",
    "plt.grid(True)\n",
    "plt.tight_layout()\n",
    "plt.show()"
   ]
  },
  {
   "cell_type": "code",
   "execution_count": 19,
   "metadata": {},
   "outputs": [
    {
     "name": "stdout",
     "output_type": "stream",
     "text": [
      "['California' 'Texas' 'Florida' 'New York' 'Pennsylvania' 'Illinois'\n",
      " 'Ohio' 'Georgia' 'North Carolina' 'Michigan' 'China' 'Greece' 'Rome'\n",
      " 'Egypt' 'Africa' 'India' 'Oceania' 'Anatolia' 'Global' 'Mesopotamia'\n",
      " 'Israel' 'Persia' 'England' 'Middle East' 'France' 'Asia' 'Germany'\n",
      " 'Scotland' 'Italy' 'Turkey' 'Spain' 'Ireland' 'Europe' 'Americas'\n",
      " 'Netherlands' 'Unknown']\n"
     ]
    }
   ],
   "source": [
    "print(df[\"region\"].unique())"
   ]
  },
  {
   "cell_type": "code",
   "execution_count": 25,
   "metadata": {},
   "outputs": [
    {
     "name": "stdout",
     "output_type": "stream",
     "text": [
      "\n",
      " Prompt: [YEAR: 1823] [REGION: France] [SOURCE: Project Gutenberg]\n",
      "\n",
      " Generated Text:\n",
      "\n",
      "[YEAR: 1823] [REGION: France] [SOURCE: Project Gutenberg]\n",
      "The Bible is one of the most well-known religious texts in Latin America, founded by a French missionary named T. Gage.[3]. By now it has been accepted as canonized for noncanonical purposes; but according to historian John O’Dale,[4], only about 578 copies exist on Wikipedia alone.[5][6](www). It was published after Spanish independence from Spain and subsequently under Pope Francis (1989). However many have since disappeared without further comment due some misconceptions regarding this text.[7]:13 So far, no other translations can be found online at http://bookshelves.org/en_wikipedia/.\n"
     ]
    }
   ],
   "source": [
    "import pandas as pd\n",
    "import re\n",
    "from transformers import GPT2Tokenizer, GPT2LMHeadModel\n",
    "import torch\n",
    "\n",
    "# === Load dataset ===\n",
    "df = pd.read_csv(r'C:\\Users\\15614\\Documents\\History_documents\\combined_history_dataset.csv')\n",
    "df = df.dropna(subset=[\"year\", \"region\", \"source\", \"text\"])\n",
    "\n",
    "# === Parse input year, allowing for BC ===\n",
    "def parse_year(input_str):\n",
    "    if \"bc\" in input_str.lower():\n",
    "        digits = re.findall(r\"\\d+\", input_str)\n",
    "        return -int(digits[0]) if digits else None\n",
    "    digits = re.findall(r\"\\d+\", input_str)\n",
    "    return int(digits[0]) if digits else None\n",
    "\n",
    "# === Find closest prompt by year + region ===\n",
    "def find_closest_prompt(df, input_year, input_region):\n",
    "    try:\n",
    "        input_year = int(input_year)\n",
    "    except ValueError:\n",
    "        return None\n",
    "\n",
    "    region_matches = df[df[\"region\"].str.lower().str.contains(input_region.lower())]\n",
    "\n",
    "    if region_matches.empty:\n",
    "        return None\n",
    "\n",
    "    def year_distance(row):\n",
    "        y = str(row[\"year\"])\n",
    "        match = re.match(r\"(1[0-9]{3})[\\–\\-](1[0-9]{3})\", y)\n",
    "        if match:\n",
    "            mid = (int(match.group(1)) + int(match.group(2))) // 2\n",
    "        else:\n",
    "            match = re.match(r\"(1[0-9]{3})\", y)\n",
    "            if match:\n",
    "                mid = int(match.group(1))\n",
    "            else:\n",
    "                return float(\"inf\")\n",
    "        return abs(mid - input_year)\n",
    "\n",
    "    closest_row = region_matches.loc[region_matches.apply(year_distance, axis=1).idxmin()]\n",
    "    return f\"[YEAR: {closest_row['year']}] [REGION: {closest_row['region']}] [SOURCE: {closest_row['source']}]\"\n",
    "\n",
    "# === GPT-2 text generator ===\n",
    "def generate_text(prompt, model_path=\"./historical_model_output\", max_length=150):\n",
    "    tokenizer = GPT2Tokenizer.from_pretrained(model_path)\n",
    "    model = GPT2LMHeadModel.from_pretrained(model_path)\n",
    "\n",
    "    input_ids = tokenizer.encode(prompt, return_tensors=\"pt\")\n",
    "    attention_mask = torch.ones_like(input_ids)\n",
    "\n",
    "    output = model.generate(\n",
    "        input_ids=input_ids,\n",
    "        attention_mask=attention_mask,\n",
    "        max_length=max_length,\n",
    "        do_sample=True,\n",
    "        temperature=0.9,\n",
    "        top_k=50,\n",
    "        top_p=0.95,\n",
    "        num_return_sequences=1,\n",
    "        pad_token_id=tokenizer.eos_token_id,\n",
    "        repetition_penalty=1.3\n",
    "    )\n",
    "\n",
    "    return tokenizer.decode(output[0], skip_special_tokens=True)\n",
    "\n",
    "# === Run interactive prompt ===\n",
    "if __name__ == \"__main__\":\n",
    "    try:\n",
    "        input_year_raw = input(\" Enter a year (e.g., 1400 or 500 BC): \").strip()\n",
    "        input_region = input(\" Enter a region (e.g., England): \").strip()\n",
    "\n",
    "        input_year = parse_year(input_year_raw)\n",
    "        if input_year is None:\n",
    "            raise ValueError(\"Invalid year format.\")\n",
    "\n",
    "        selected_prompt = find_closest_prompt(df, input_year, input_region)\n",
    "\n",
    "        if selected_prompt:\n",
    "            print(\"\\n Prompt:\", selected_prompt)\n",
    "            print(\"\\n Generated Text:\\n\")\n",
    "            print(generate_text(selected_prompt))\n",
    "        else:\n",
    "            print(\"\\n No matching historical entries found.\")\n",
    "    except Exception as e:\n",
    "        print(f\"Error: {e}\")\n",
    "\n",
    "\n",
    "\n"
   ]
  },
  {
   "cell_type": "code",
   "execution_count": 26,
   "metadata": {},
   "outputs": [
    {
     "name": "stdout",
     "output_type": "stream",
     "text": [
      " Dataset split: 640 train examples, 160 eval examples\n"
     ]
    }
   ],
   "source": [
    "import pandas as pd\n",
    "\n",
    "# Load the combined CSV\n",
    "df = pd.read_csv(r'C:\\Users\\15614\\Documents\\History_documents\\combined_history_dataset.csv')\n",
    "\n",
    "# Drop empty rows or broken entries\n",
    "df = df.dropna(subset=[\"year\", \"region\", \"source\", \"text\"]).reset_index(drop=True)\n",
    "\n",
    "# Define split sizes\n",
    "train_ratio = 0.8  # 80% train, 20% eval\n",
    "split_index = int(len(df) * train_ratio)\n",
    "\n",
    "df_train = df[:split_index]\n",
    "df_eval = df[split_index:]\n",
    "\n",
    "# Save train.txt\n",
    "with open(\"train.txt\", \"w\", encoding=\"utf-8\") as f:\n",
    "    for _, row in df_train.iterrows():\n",
    "        header = f\"[YEAR: {row['year']}] [REGION: {row['region']}] [SOURCE: {row['source']}]\"\n",
    "        text = row['text'].strip().replace(\"\\n\", \" \")\n",
    "        f.write(f\"{header}\\n{text}\\n\\n\")\n",
    "\n",
    "# Save eval.txt\n",
    "with open(\"eval.txt\", \"w\", encoding=\"utf-8\") as f:\n",
    "    for _, row in df_eval.iterrows():\n",
    "        header = f\"[YEAR: {row['year']}] [REGION: {row['region']}] [SOURCE: {row['source']}]\"\n",
    "        text = row['text'].strip().replace(\"\\n\", \" \")\n",
    "        f.write(f\"{header}\\n{text}\\n\\n\")\n",
    "\n",
    "print(f\" Dataset split: {len(df_train)} train examples, {len(df_eval)} eval examples\")"
   ]
  },
  {
   "cell_type": "code",
   "execution_count": 27,
   "metadata": {},
   "outputs": [
    {
     "name": "stderr",
     "output_type": "stream",
     "text": [
      "c:\\Users\\15614\\anaconda3\\Lib\\site-packages\\transformers\\data\\datasets\\language_modeling.py:53: FutureWarning: This dataset will be removed from the library soon, preprocessing should be handled with the 🤗 Datasets library. You can have a look at this example script for pointers: https://github.com/huggingface/transformers/blob/main/examples/pytorch/language-modeling/run_mlm.py\n",
      "  warnings.warn(\n"
     ]
    }
   ],
   "source": [
    "train_dataset = load_dataset(\"train.txt\", tokenizer)\n",
    "eval_dataset = load_dataset(\"eval.txt\", tokenizer)\n",
    "\n",
    "trainer = Trainer(\n",
    "    model=model,\n",
    "    args=training_args,\n",
    "    train_dataset=train_dataset,\n",
    "    eval_dataset=eval_dataset,\n",
    "    data_collator=data_collator\n",
    ")"
   ]
  },
  {
   "cell_type": "code",
   "execution_count": 28,
   "metadata": {},
   "outputs": [
    {
     "data": {
      "text/html": [
       "\n",
       "    <div>\n",
       "      \n",
       "      <progress value='43' max='43' style='width:300px; height:20px; vertical-align: middle;'></progress>\n",
       "      [43/43 02:55]\n",
       "    </div>\n",
       "    "
      ],
      "text/plain": [
       "<IPython.core.display.HTML object>"
      ]
     },
     "metadata": {},
     "output_type": "display_data"
    },
    {
     "name": "stdout",
     "output_type": "stream",
     "text": [
      "Perplexity: 38.42\n"
     ]
    }
   ],
   "source": [
    "import math\n",
    "results = trainer.evaluate()\n",
    "print(f\"Perplexity: {math.exp(results['eval_loss']):.2f}\")"
   ]
  },
  {
   "cell_type": "code",
   "execution_count": 29,
   "metadata": {},
   "outputs": [
    {
     "name": "stdout",
     "output_type": "stream",
     "text": [
      "Saved 160 entries to eval_for_metrics.csv\n"
     ]
    }
   ],
   "source": [
    "with open(\"eval.txt\", \"r\", encoding=\"utf-8\") as f:\n",
    "    raw_entries = f.read().strip().split(\"\\n\\n\")\n",
    "\n",
    "prompts = []\n",
    "references = []\n",
    "\n",
    "for entry in raw_entries:\n",
    "    lines = entry.strip().split(\"\\n\")\n",
    "    if len(lines) < 2:\n",
    "        continue  # skip malformed blocks\n",
    "    prompt = lines[0].strip()\n",
    "    reference = lines[1].strip()\n",
    "    prompts.append(prompt)\n",
    "    references.append(reference)\n",
    "\n",
    "# Create DataFrame and save\n",
    "df_eval = pd.DataFrame({\"prompt\": prompts, \"reference\": references})\n",
    "df_eval.to_csv(\"eval_for_metrics.csv\", index=False, encoding=\"utf-8\")\n",
    "\n",
    "print(f\"Saved {len(df_eval)} entries to eval_for_metrics.csv\")"
   ]
  },
  {
   "cell_type": "code",
   "execution_count": 38,
   "metadata": {},
   "outputs": [
    {
     "name": "stderr",
     "output_type": "stream",
     "text": [
      "[nltk_data] Downloading package punkt to\n",
      "[nltk_data]     C:\\Users\\15614\\AppData\\Roaming\\nltk_data...\n",
      "[nltk_data]   Unzipping tokenizers\\punkt.zip.\n",
      "The attention mask is not set and cannot be inferred from input because pad token is same as eos token. As a consequence, you may observe unexpected behavior. Please pass your input's `attention_mask` to obtain reliable results.\n"
     ]
    },
    {
     "data": {
      "application/vnd.jupyter.widget-view+json": {
       "model_id": "effa59bd693e4bf58e0f78078617c27c",
       "version_major": 2,
       "version_minor": 0
      },
      "text/plain": [
       "tokenizer_config.json:   0%|          | 0.00/25.0 [00:00<?, ?B/s]"
      ]
     },
     "metadata": {},
     "output_type": "display_data"
    },
    {
     "name": "stderr",
     "output_type": "stream",
     "text": [
      "c:\\Users\\15614\\anaconda3\\Lib\\site-packages\\huggingface_hub\\file_download.py:144: UserWarning: `huggingface_hub` cache-system uses symlinks by default to efficiently store duplicated files but your machine does not support them in C:\\Users\\15614\\.cache\\huggingface\\hub\\models--roberta-large. Caching files will still work but in a degraded version that might require more space on your disk. This warning can be disabled by setting the `HF_HUB_DISABLE_SYMLINKS_WARNING` environment variable. For more details, see https://huggingface.co/docs/huggingface_hub/how-to-cache#limitations.\n",
      "To support symlinks on Windows, you either need to activate Developer Mode or to run Python as an administrator. In order to activate developer mode, see this article: https://docs.microsoft.com/en-us/windows/apps/get-started/enable-your-device-for-development\n",
      "  warnings.warn(message)\n"
     ]
    },
    {
     "data": {
      "application/vnd.jupyter.widget-view+json": {
       "model_id": "3c3865601d73434f80251bdcdf4bed33",
       "version_major": 2,
       "version_minor": 0
      },
      "text/plain": [
       "config.json:   0%|          | 0.00/482 [00:00<?, ?B/s]"
      ]
     },
     "metadata": {},
     "output_type": "display_data"
    },
    {
     "data": {
      "application/vnd.jupyter.widget-view+json": {
       "model_id": "f43541e7919044ec8a791834be787639",
       "version_major": 2,
       "version_minor": 0
      },
      "text/plain": [
       "vocab.json:   0%|          | 0.00/899k [00:00<?, ?B/s]"
      ]
     },
     "metadata": {},
     "output_type": "display_data"
    },
    {
     "data": {
      "application/vnd.jupyter.widget-view+json": {
       "model_id": "842408be19494246bfece7fb3ff50748",
       "version_major": 2,
       "version_minor": 0
      },
      "text/plain": [
       "merges.txt:   0%|          | 0.00/456k [00:00<?, ?B/s]"
      ]
     },
     "metadata": {},
     "output_type": "display_data"
    },
    {
     "data": {
      "application/vnd.jupyter.widget-view+json": {
       "model_id": "e41c3f7643d242c08ea5e6cd0deab917",
       "version_major": 2,
       "version_minor": 0
      },
      "text/plain": [
       "tokenizer.json:   0%|          | 0.00/1.36M [00:00<?, ?B/s]"
      ]
     },
     "metadata": {},
     "output_type": "display_data"
    },
    {
     "name": "stderr",
     "output_type": "stream",
     "text": [
      "Xet Storage is enabled for this repo, but the 'hf_xet' package is not installed. Falling back to regular HTTP download. For better performance, install the package with: `pip install huggingface_hub[hf_xet]` or `pip install hf_xet`\n",
      "WARNING:huggingface_hub.file_download:Xet Storage is enabled for this repo, but the 'hf_xet' package is not installed. Falling back to regular HTTP download. For better performance, install the package with: `pip install huggingface_hub[hf_xet]` or `pip install hf_xet`\n"
     ]
    },
    {
     "data": {
      "application/vnd.jupyter.widget-view+json": {
       "model_id": "76428496604343c38dd59f6a9f994a54",
       "version_major": 2,
       "version_minor": 0
      },
      "text/plain": [
       "model.safetensors:   0%|          | 0.00/1.42G [00:00<?, ?B/s]"
      ]
     },
     "metadata": {},
     "output_type": "display_data"
    },
    {
     "name": "stderr",
     "output_type": "stream",
     "text": [
      "Some weights of RobertaModel were not initialized from the model checkpoint at roberta-large and are newly initialized: ['pooler.dense.bias', 'pooler.dense.weight']\n",
      "You should probably TRAIN this model on a down-stream task to be able to use it for predictions and inference.\n"
     ]
    },
    {
     "name": "stdout",
     "output_type": "stream",
     "text": [
      "\n",
      "Average BLEU: 0.0000\n",
      "ROUGE-1 F1: 0.0170\n",
      "ROUGE-2 F1: 0.0030\n",
      "ROUGE-L F1: 0.0106\n",
      "BERTScore F1: 0.7591\n"
     ]
    }
   ],
   "source": [
    "import pandas as pd\n",
    "import torch\n",
    "from transformers import GPT2Tokenizer, GPT2LMHeadModel\n",
    "import nltk\n",
    "from nltk.translate.bleu_score import sentence_bleu, SmoothingFunction\n",
    "from bert_score import score as bert_score\n",
    "from rouge_score import rouge_scorer\n",
    "\n",
    "nltk.download(\"punkt\")\n",
    "\n",
    "# === Load model and tokenizer ===\n",
    "model_path = \"./historical_model_output\"\n",
    "tokenizer = GPT2Tokenizer.from_pretrained(model_path)\n",
    "model = GPT2LMHeadModel.from_pretrained(model_path)\n",
    "model.eval()\n",
    "\n",
    "# === Load evaluation set ===\n",
    "df = pd.read_csv(\"eval_for_metrics.csv\").dropna(subset=[\"prompt\", \"reference\"])\n",
    "\n",
    "# === Generate text ===\n",
    "def generate_text(prompt, max_length=150):\n",
    "    input_ids = tokenizer.encode(prompt, return_tensors=\"pt\")\n",
    "    with torch.no_grad():\n",
    "        output = model.generate(\n",
    "            input_ids=input_ids,\n",
    "            max_length=max_length,\n",
    "            do_sample=True,\n",
    "            top_k=50,\n",
    "            top_p=0.95,\n",
    "            temperature=0.9,\n",
    "            pad_token_id=tokenizer.eos_token_id,\n",
    "            repetition_penalty=1.3\n",
    "        )\n",
    "    return tokenizer.decode(output[0], skip_special_tokens=True)\n",
    "\n",
    "generated_texts = []\n",
    "reference_texts = []\n",
    "\n",
    "for _, row in df.iterrows():\n",
    "    prompt = row[\"prompt\"]\n",
    "    reference = row[\"reference\"]\n",
    "    generated = generate_text(prompt)\n",
    "    generated_texts.append(generated)\n",
    "    reference_texts.append(reference)\n",
    "\n",
    "# === BLEU ===\n",
    "smooth_fn = SmoothingFunction().method4\n",
    "bleu_scores = [\n",
    "    sentence_bleu([nltk.word_tokenize(ref)], nltk.word_tokenize(gen), smoothing_function=smooth_fn)\n",
    "    for ref, gen in zip(reference_texts, generated_texts)\n",
    "]\n",
    "average_bleu = sum(bleu_scores) / len(bleu_scores)\n",
    "\n",
    "# === ROUGE (manual with rouge-score) ===\n",
    "scorer = rouge_scorer.RougeScorer(['rouge1', 'rouge2', 'rougeL'], use_stemmer=True)\n",
    "rouge_scores = [scorer.score(ref, gen) for ref, gen in zip(reference_texts, generated_texts)]\n",
    "\n",
    "avg_rouge1 = sum(score['rouge1'].fmeasure for score in rouge_scores) / len(rouge_scores)\n",
    "avg_rouge2 = sum(score['rouge2'].fmeasure for score in rouge_scores) / len(rouge_scores)\n",
    "avg_rougeL = sum(score['rougeL'].fmeasure for score in rouge_scores) / len(rouge_scores)\n",
    "\n",
    "# === BERTScore ===\n",
    "P, R, F1 = bert_score(generated_texts, reference_texts, lang=\"en\")\n",
    "average_bertscore_f1 = F1.mean().item()\n",
    "\n",
    "# === Print results ===\n",
    "print(f\"\\nAverage BLEU: {average_bleu:.4f}\")\n",
    "print(f\"ROUGE-1 F1: {avg_rouge1:.4f}\")\n",
    "print(f\"ROUGE-2 F1: {avg_rouge2:.4f}\")\n",
    "print(f\"ROUGE-L F1: {avg_rougeL:.4f}\")\n",
    "print(f\"BERTScore F1: {average_bertscore_f1:.4f}\")\n"
   ]
  },
  {
   "cell_type": "code",
   "execution_count": 39,
   "metadata": {},
   "outputs": [
    {
     "data": {
      "image/png": "[encoded data removed]",
      "text/plain": [
       "<Figure size 640x480 with 1 Axes>"
      ]
     },
     "metadata": {},
     "output_type": "display_data"
    },
    {
     "data": {
      "image/png": "[encoded data removed]",
      "text/plain": [
       "<Figure size 640x480 with 1 Axes>"
      ]
     },
     "metadata": {},
     "output_type": "display_data"
    }
   ],
   "source": [
    "plt.hist(bleu_scores, bins=20, alpha=0.7)\n",
    "plt.title(\"BLEU Score Distribution\")\n",
    "plt.xlabel(\"BLEU Score\")\n",
    "plt.ylabel(\"Frequency\")\n",
    "plt.grid(True)\n",
    "plt.tight_layout()\n",
    "plt.show()\n",
    "\n",
    "# BERTScore distribution\n",
    "plt.hist(F1.numpy(), bins=20, alpha=0.7, color='orange')\n",
    "plt.title(\"BERTScore F1 Distribution\")\n",
    "plt.xlabel(\"BERTScore F1\")\n",
    "plt.ylabel(\"Frequency\")\n",
    "plt.grid(True)\n",
    "plt.tight_layout()\n",
    "plt.show()"
   ]
  }
 ],
 "metadata": {
  "kernelspec": {
   "display_name": "base",
   "language": "python",
   "name": "python3"
  },
  "language_info": {
   "codemirror_mode": {
    "name": "ipython",
    "version": 3
   },
   "file_extension": ".py",
   "mimetype": "text/x-python",
   "name": "python",
   "nbconvert_exporter": "python",
   "pygments_lexer": "ipython3",
   "version": "3.11.4"
  }
 },
 "nbformat": 4,
 "nbformat_minor": 2
}
